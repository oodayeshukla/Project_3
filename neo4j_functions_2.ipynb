{
 "cells": [
  {
   "cell_type": "code",
   "execution_count": 1,
   "id": "611d568c-6bfa-41aa-bf10-e05ab3cfb2bd",
   "metadata": {},
   "outputs": [],
   "source": [
    "## import the package \n",
    "from neo4j import GraphDatabase\n",
    "uri = \"neo4j://localhost:7687\"    ## bolt driver -- binary format for faster performance "
   ]
  },
  {
   "cell_type": "code",
   "execution_count": 2,
   "id": "76a220b8-3c8d-4f84-ac8b-d51df9f65c19",
   "metadata": {},
   "outputs": [],
   "source": [
    "fname  = \"file:///stock_data_for_graph_orig.csv\""
   ]
  },
  {
   "cell_type": "code",
   "execution_count": 3,
   "id": "ba493425-760b-4dc2-ac52-a8b4ac1aa7b9",
   "metadata": {},
   "outputs": [],
   "source": [
    "## open a connection to the database \n",
    "driver = GraphDatabase.driver(uri, auth=(\"neo4j\", \"neo4j9\"))\n",
    "coin_fnames = [\"coin_Bitcoin.csv\",\"coin_Ethereum.csv\",\"coin_USDCoin.csv\",\"coin_Cardano.csv\",\"coin_Litecoin.csv\",\"coin_XRP.csv\",\"coin_CryptocomCoin.csv\",\n",
    "             \"coin_Solana.csv\",\"stock_data_for_graph_orig.csv\",\"coin_Dogecoin.csv\",\"coin_Uniswap.csv\"]\n",
    "\n",
    "fname = coin_fnames[0]\n"
   ]
  },
  {
   "cell_type": "code",
   "execution_count": 5,
   "id": "3a4e34a5-5ce7-4eec-88f6-dd6826948678",
   "metadata": {},
   "outputs": [],
   "source": [
    "############# Neo4j functions and queries \n",
    "\n",
    "\n",
    "### load the csv files \n",
    "def load_csv_coin_file(tx, fname): \n",
    "    ## set up the query as a string with the filename that can be modified \n",
    "    qry = (f\"LOAD CSV WITH HEADERS FROM \\\"file:///{fname}\\\" as row \"\n",
    "           \"MERGE (s:Stock{name:row.Symbol}) \"\n",
    "           \"CREATE (s)-[:TRADING_DAY]->(:StockTradingDay{date:date(row.Date), \"\n",
    "           \"open:toFloat(row.Open), high:toFloat(row.High), close:toFloat(row.Close), \"\n",
    "           \"volume:toFloat(row.Volume),marketcap:toFloat(row.Marketcap)});\")\n",
    "    \n",
    "    tx.run(qry)\n",
    "\n",
    "### link the trading days to the stock\n",
    "def link_trading_days(tx):\n",
    "    qry = (\"MATCH (s:Stock)-[:TRADING_DAY]->(day) \"\n",
    "            \"WITH s, day \"\n",
    "            \"ORDER BY day.date ASC \"\n",
    "            \"WITH s, collect(day) as nodes, collect(day.close) as closes \"\n",
    "            \"SET s.close_array = closes \"\n",
    "            \"WITH nodes \"\n",
    "            \"CALL apoc.nodes.link(nodes, 'NEXT_DAY') \"\n",
    "            \"RETURN distinct 'done' AS result; \")\n",
    "    tx.run(qry) \n",
    "\n",
    "### compute the pearson correlation coefficient \n",
    "def pearson_similiarity(tx): \n",
    "    qry = (\"MATCH (s:Stock) \"\n",
    "            \"WITH {item:id(s), weights: s.close_array} AS stockData \"\n",
    "            \"WITH collect(stockData) AS input \"\n",
    "            \"CALL gds.alpha.similarity.pearson.write({ \"\n",
    "            \"  data: input, \"\n",
    "            \"  topK: 3, \"\n",
    "            \"  similarityCutoff: 0.2 \"\n",
    "            \"}) \"\n",
    "            \"YIELD nodes, similarityPairs \"\n",
    "            \"RETURN nodes, similarityPairs;\") \n",
    "    \n",
    "    tx.run(qry) \n",
    "\n",
    "### determine the louvain communities \n",
    "def louvain_community(tx): \n",
    "    \n",
    "    qry = (\"ALL gds.louvain.write({ \"\n",
    "           \"nodeProjection:'Stock', \"\n",
    "           \"relationshipProjection:'SIMILAR', \"\n",
    "           \"writeProperty:'louvain' \"\n",
    "           \"});\")\n",
    "    tx.run(qry)\n",
    "\n",
    "\n",
    "### add labels \n",
    "def add_labels(tx): \n",
    "    qry = (\"MATCH (s:Stock)-[:TRADING_DAY]->(day) \"\n",
    "           \"CALL apoc.create.addLabels( day, [s.name]) YIELD node \"\n",
    "           \"RETURN distinct 'done';\")\n",
    "    tx.run(qry) \n",
    "\n",
    "### get paths \n",
    "def get_paths_stocks(tx):\n",
    "    qry = (\"MATCH (s:Stock)-[:TRADING_DAY]->(day) \"\n",
    "           \"WHERE NOT ()-[:NEXT_DAY]->(day) \"\n",
    "           \"MATCH p=(day)-[:NEXT_DAY*0..]->(next_day) \"\n",
    "           \"SET next_day.index = length(p);\") \n",
    "    tx.run(qry) \n",
    "\n",
    "## compute the regression \n",
    "def get_regression(tx): \n",
    "    qry = (\"MATCH (s:Stock) \"\n",
    "           \"CALL apoc.math.regr(s.name, 'close', 'index') YIELD slope \"\n",
    "           \"SET s.slope = slope;\")\n",
    "    tx.run(qry) \n",
    "    \n",
    "### return the community of stocks\n",
    "def get_communities(tx): \n",
    "    qry = (\"MATCH (s:Stock) \"\n",
    "           \"WITH s.louvain AS community, s.slope AS slope, s.name AS ticker \"\n",
    "           \"ORDER BY slope DESC \"\n",
    "           \"RETURN community, collect(ticker)[..3] as potential_investments;\")\n",
    "    tx.run(qry) \n",
    "    \n",
    "     \n",
    "def delete_all_nodes(tx): \n",
    "    tx.run('''MATCH(p) \n",
    "                OPTIONAL MATCH (p)-[r]-() //drops p's relations\n",
    "                DELETE r,p\n",
    "            ''')\n",
    " \n",
    "\n",
    "\n",
    "# def create_friend_of(tx, name, friend):\n",
    "#    tx.run(\"MATCH (a:Person) WHERE a.name = $name \"\n",
    "#           \"CREATE (a)-[:KNOWS]->(:Person {name: $friend})\",\n",
    "#           name=name, friend=friend)\n",
    "\n"
   ]
  },
  {
   "cell_type": "code",
   "execution_count": 53,
   "id": "9bd773e4-8ccb-4d82-aa25-8185cd7b4547",
   "metadata": {},
   "outputs": [
    {
     "data": {
      "text/plain": [
       "'LOAD CSV WITH HEADERS FROM \"file:///coin_Bitcoin.csv\" as row MERGE (s:Stock{name:row.Symbol}) CREATE (s)-[:TRADING_DAY]->(:StockTradingDay{date:date(row.Date), open:toFloat(row.Open), high:toFloat(row.High), close:toFloat(row.Close), volume:toFloat(row.Volume),marketcap:toFloat(row.Marketcap)});'"
      ]
     },
     "execution_count": 53,
     "metadata": {},
     "output_type": "execute_result"
    }
   ],
   "source": [
    "fname = coin_fnames[0]\n",
    "name=\"test\"\n",
    "\n",
    "qry = (f\"LOAD CSV WITH HEADERS FROM \\\"file:///{fname}\\\" as row \"\n",
    "    \"MERGE (s:Stock{name:row.Symbol}) \"\n",
    "    \"CREATE (s)-[:TRADING_DAY]->(:StockTradingDay{date:date(row.Date), \"\n",
    "    \"open:toFloat(row.Open), high:toFloat(row.High), close:toFloat(row.Close), \"\n",
    "     \"volume:toFloat(row.Volume),marketcap:toFloat(row.Marketcap)});\")\n",
    "\n",
    "qry\n",
    "#\n",
    "#qry = (\n",
    "#     f\"Hi {name}. \"\n",
    "#     \"You are a {profession}. \"\n",
    "#     \"You were in {affiliation}.\"\n",
    "# )"
   ]
  },
  {
   "cell_type": "code",
   "execution_count": 57,
   "id": "ed682d05-b247-417a-a986-95a7a788a040",
   "metadata": {
    "tags": []
   },
   "outputs": [
    {
     "ename": "CypherSyntaxError",
     "evalue": "{code: Neo.ClientError.Statement.SyntaxError} {message: Invalid input ':': expected <init> (line 1, column 1 (offset: 0))\n\":auto USING PERIODIC COMMIT LOAD CSV WITH HEADERS FROM \"file:///{fname}\" as row MERGE (s:Stock{name:row.Symbol}) CREATE (s)-[:TRADING_DAY]->(:StockTradingDay{date:date(row.Date), open:toFloat(row.Open), high:toFloat(row.High), close:toFloat(row.Close), volume:toFloat(row.Volume),marketcap:toFloat(row.Marketcap)});\"\n ^}",
     "output_type": "error",
     "traceback": [
      "\u001b[0;31m---------------------------------------------------------------------------\u001b[0m",
      "\u001b[0;31mCypherSyntaxError\u001b[0m                         Traceback (most recent call last)",
      "\u001b[0;32m/tmp/ipykernel_34447/932860171.py\u001b[0m in \u001b[0;36m<module>\u001b[0;34m\u001b[0m\n\u001b[1;32m      1\u001b[0m \u001b[0;31m## load in the data\u001b[0m\u001b[0;34m\u001b[0m\u001b[0;34m\u001b[0m\u001b[0;34m\u001b[0m\u001b[0m\n\u001b[1;32m      2\u001b[0m \u001b[0;32mwith\u001b[0m \u001b[0mdriver\u001b[0m\u001b[0;34m.\u001b[0m\u001b[0msession\u001b[0m\u001b[0;34m(\u001b[0m\u001b[0;34m)\u001b[0m \u001b[0;32mas\u001b[0m \u001b[0msession\u001b[0m\u001b[0;34m:\u001b[0m\u001b[0;34m\u001b[0m\u001b[0;34m\u001b[0m\u001b[0m\n\u001b[0;32m----> 3\u001b[0;31m     \u001b[0msession\u001b[0m\u001b[0;34m.\u001b[0m\u001b[0mwrite_transaction\u001b[0m\u001b[0;34m(\u001b[0m\u001b[0mload_csv_coin_file\u001b[0m\u001b[0;34m,\u001b[0m\u001b[0mcoin_fnames\u001b[0m\u001b[0;34m[\u001b[0m\u001b[0;36m0\u001b[0m\u001b[0;34m]\u001b[0m\u001b[0;34m)\u001b[0m\u001b[0;34m\u001b[0m\u001b[0;34m\u001b[0m\u001b[0m\n\u001b[0m",
      "\u001b[0;32m~/apps/anaconda3/envs/prj3/lib/python3.8/site-packages/neo4j/work/simple.py\u001b[0m in \u001b[0;36mwrite_transaction\u001b[0;34m(self, transaction_function, *args, **kwargs)\u001b[0m\n\u001b[1;32m    419\u001b[0m         \u001b[0;34m:\u001b[0m\u001b[0;32mreturn\u001b[0m\u001b[0;34m:\u001b[0m \u001b[0ma\u001b[0m \u001b[0mresult\u001b[0m \u001b[0;32mas\u001b[0m \u001b[0mreturned\u001b[0m \u001b[0mby\u001b[0m \u001b[0mthe\u001b[0m \u001b[0mgiven\u001b[0m \u001b[0munit\u001b[0m \u001b[0mof\u001b[0m \u001b[0mwork\u001b[0m\u001b[0;34m\u001b[0m\u001b[0;34m\u001b[0m\u001b[0m\n\u001b[1;32m    420\u001b[0m         \"\"\"\n\u001b[0;32m--> 421\u001b[0;31m         \u001b[0;32mreturn\u001b[0m \u001b[0mself\u001b[0m\u001b[0;34m.\u001b[0m\u001b[0m_run_transaction\u001b[0m\u001b[0;34m(\u001b[0m\u001b[0mWRITE_ACCESS\u001b[0m\u001b[0;34m,\u001b[0m \u001b[0mtransaction_function\u001b[0m\u001b[0;34m,\u001b[0m \u001b[0;34m*\u001b[0m\u001b[0margs\u001b[0m\u001b[0;34m,\u001b[0m \u001b[0;34m**\u001b[0m\u001b[0mkwargs\u001b[0m\u001b[0;34m)\u001b[0m\u001b[0;34m\u001b[0m\u001b[0;34m\u001b[0m\u001b[0m\n\u001b[0m\u001b[1;32m    422\u001b[0m \u001b[0;34m\u001b[0m\u001b[0m\n\u001b[1;32m    423\u001b[0m \u001b[0;34m\u001b[0m\u001b[0m\n",
      "\u001b[0;32m~/apps/anaconda3/envs/prj3/lib/python3.8/site-packages/neo4j/work/simple.py\u001b[0m in \u001b[0;36m_run_transaction\u001b[0;34m(self, access_mode, transaction_function, *args, **kwargs)\u001b[0m\n\u001b[1;32m    323\u001b[0m                 \u001b[0mtx\u001b[0m \u001b[0;34m=\u001b[0m \u001b[0mself\u001b[0m\u001b[0;34m.\u001b[0m\u001b[0m_transaction\u001b[0m\u001b[0;34m\u001b[0m\u001b[0;34m\u001b[0m\u001b[0m\n\u001b[1;32m    324\u001b[0m                 \u001b[0;32mtry\u001b[0m\u001b[0;34m:\u001b[0m\u001b[0;34m\u001b[0m\u001b[0;34m\u001b[0m\u001b[0m\n\u001b[0;32m--> 325\u001b[0;31m                     \u001b[0mresult\u001b[0m \u001b[0;34m=\u001b[0m \u001b[0mtransaction_function\u001b[0m\u001b[0;34m(\u001b[0m\u001b[0mtx\u001b[0m\u001b[0;34m,\u001b[0m \u001b[0;34m*\u001b[0m\u001b[0margs\u001b[0m\u001b[0;34m,\u001b[0m \u001b[0;34m**\u001b[0m\u001b[0mkwargs\u001b[0m\u001b[0;34m)\u001b[0m\u001b[0;34m\u001b[0m\u001b[0;34m\u001b[0m\u001b[0m\n\u001b[0m\u001b[1;32m    326\u001b[0m                 \u001b[0;32mexcept\u001b[0m \u001b[0mException\u001b[0m\u001b[0;34m:\u001b[0m\u001b[0;34m\u001b[0m\u001b[0;34m\u001b[0m\u001b[0m\n\u001b[1;32m    327\u001b[0m                     \u001b[0mtx\u001b[0m\u001b[0;34m.\u001b[0m\u001b[0mclose\u001b[0m\u001b[0;34m(\u001b[0m\u001b[0;34m)\u001b[0m\u001b[0;34m\u001b[0m\u001b[0;34m\u001b[0m\u001b[0m\n",
      "\u001b[0;32m/tmp/ipykernel_34447/2576272591.py\u001b[0m in \u001b[0;36mload_csv_coin_file\u001b[0;34m(tx, fname)\u001b[0m\n\u001b[1;32m      8\u001b[0m            \"volume:toFloat(row.Volume),marketcap:toFloat(row.Marketcap)});\")\n\u001b[1;32m      9\u001b[0m \u001b[0;34m\u001b[0m\u001b[0m\n\u001b[0;32m---> 10\u001b[0;31m     \u001b[0mtx\u001b[0m\u001b[0;34m.\u001b[0m\u001b[0mrun\u001b[0m\u001b[0;34m(\u001b[0m\u001b[0mqry\u001b[0m\u001b[0;34m)\u001b[0m\u001b[0;34m\u001b[0m\u001b[0;34m\u001b[0m\u001b[0m\n\u001b[0m\u001b[1;32m     11\u001b[0m \u001b[0;34m\u001b[0m\u001b[0m\n\u001b[1;32m     12\u001b[0m \u001b[0;32mdef\u001b[0m \u001b[0mload_csv_file_orig\u001b[0m\u001b[0;34m(\u001b[0m\u001b[0mtx\u001b[0m\u001b[0;34m,\u001b[0m \u001b[0mfname\u001b[0m\u001b[0;34m)\u001b[0m\u001b[0;34m:\u001b[0m\u001b[0;34m\u001b[0m\u001b[0;34m\u001b[0m\u001b[0m\n",
      "\u001b[0;32m~/apps/anaconda3/envs/prj3/lib/python3.8/site-packages/neo4j/work/transaction.py\u001b[0m in \u001b[0;36mrun\u001b[0;34m(self, query, parameters, **kwparameters)\u001b[0m\n\u001b[1;32m    135\u001b[0m         \u001b[0mself\u001b[0m\u001b[0;34m.\u001b[0m\u001b[0m_results\u001b[0m\u001b[0;34m.\u001b[0m\u001b[0mappend\u001b[0m\u001b[0;34m(\u001b[0m\u001b[0mresult\u001b[0m\u001b[0;34m)\u001b[0m\u001b[0;34m\u001b[0m\u001b[0;34m\u001b[0m\u001b[0m\n\u001b[1;32m    136\u001b[0m \u001b[0;34m\u001b[0m\u001b[0m\n\u001b[0;32m--> 137\u001b[0;31m         \u001b[0mresult\u001b[0m\u001b[0;34m.\u001b[0m\u001b[0m_tx_ready_run\u001b[0m\u001b[0;34m(\u001b[0m\u001b[0mquery\u001b[0m\u001b[0;34m,\u001b[0m \u001b[0mparameters\u001b[0m\u001b[0;34m,\u001b[0m \u001b[0;34m**\u001b[0m\u001b[0mkwparameters\u001b[0m\u001b[0;34m)\u001b[0m\u001b[0;34m\u001b[0m\u001b[0;34m\u001b[0m\u001b[0m\n\u001b[0m\u001b[1;32m    138\u001b[0m \u001b[0;34m\u001b[0m\u001b[0m\n\u001b[1;32m    139\u001b[0m         \u001b[0;32mreturn\u001b[0m \u001b[0mresult\u001b[0m\u001b[0;34m\u001b[0m\u001b[0;34m\u001b[0m\u001b[0m\n",
      "\u001b[0;32m~/apps/anaconda3/envs/prj3/lib/python3.8/site-packages/neo4j/work/result.py\u001b[0m in \u001b[0;36m_tx_ready_run\u001b[0;34m(self, query, parameters, **kwparameters)\u001b[0m\n\u001b[1;32m     68\u001b[0m         \u001b[0;31m# BEGIN {extra}\u001b[0m\u001b[0;34m\u001b[0m\u001b[0;34m\u001b[0m\u001b[0;34m\u001b[0m\u001b[0m\n\u001b[1;32m     69\u001b[0m         \u001b[0;31m# RUN \"query\" {parameters} {extra}\u001b[0m\u001b[0;34m\u001b[0m\u001b[0;34m\u001b[0m\u001b[0;34m\u001b[0m\u001b[0m\n\u001b[0;32m---> 70\u001b[0;31m         \u001b[0mself\u001b[0m\u001b[0;34m.\u001b[0m\u001b[0m_run\u001b[0m\u001b[0;34m(\u001b[0m\u001b[0mquery\u001b[0m\u001b[0;34m,\u001b[0m \u001b[0mparameters\u001b[0m\u001b[0;34m,\u001b[0m \u001b[0;32mNone\u001b[0m\u001b[0;34m,\u001b[0m \u001b[0;32mNone\u001b[0m\u001b[0;34m,\u001b[0m \u001b[0;32mNone\u001b[0m\u001b[0;34m,\u001b[0m \u001b[0;32mNone\u001b[0m\u001b[0;34m,\u001b[0m \u001b[0;34m**\u001b[0m\u001b[0mkwparameters\u001b[0m\u001b[0;34m)\u001b[0m\u001b[0;34m\u001b[0m\u001b[0;34m\u001b[0m\u001b[0m\n\u001b[0m\u001b[1;32m     71\u001b[0m \u001b[0;34m\u001b[0m\u001b[0m\n\u001b[1;32m     72\u001b[0m     def _run(self, query, parameters, db, imp_user, access_mode, bookmarks,\n",
      "\u001b[0;32m~/apps/anaconda3/envs/prj3/lib/python3.8/site-packages/neo4j/work/result.py\u001b[0m in \u001b[0;36m_run\u001b[0;34m(self, query, parameters, db, imp_user, access_mode, bookmarks, **kwparameters)\u001b[0m\n\u001b[1;32m    112\u001b[0m         \u001b[0mself\u001b[0m\u001b[0;34m.\u001b[0m\u001b[0m_pull\u001b[0m\u001b[0;34m(\u001b[0m\u001b[0;34m)\u001b[0m\u001b[0;34m\u001b[0m\u001b[0;34m\u001b[0m\u001b[0m\n\u001b[1;32m    113\u001b[0m         \u001b[0mself\u001b[0m\u001b[0;34m.\u001b[0m\u001b[0m_connection\u001b[0m\u001b[0;34m.\u001b[0m\u001b[0msend_all\u001b[0m\u001b[0;34m(\u001b[0m\u001b[0;34m)\u001b[0m\u001b[0;34m\u001b[0m\u001b[0;34m\u001b[0m\u001b[0m\n\u001b[0;32m--> 114\u001b[0;31m         \u001b[0mself\u001b[0m\u001b[0;34m.\u001b[0m\u001b[0m_attach\u001b[0m\u001b[0;34m(\u001b[0m\u001b[0;34m)\u001b[0m\u001b[0;34m\u001b[0m\u001b[0;34m\u001b[0m\u001b[0m\n\u001b[0m\u001b[1;32m    115\u001b[0m \u001b[0;34m\u001b[0m\u001b[0m\n\u001b[1;32m    116\u001b[0m     \u001b[0;32mdef\u001b[0m \u001b[0m_pull\u001b[0m\u001b[0;34m(\u001b[0m\u001b[0mself\u001b[0m\u001b[0;34m)\u001b[0m\u001b[0;34m:\u001b[0m\u001b[0;34m\u001b[0m\u001b[0;34m\u001b[0m\u001b[0m\n",
      "\u001b[0;32m~/apps/anaconda3/envs/prj3/lib/python3.8/site-packages/neo4j/work/result.py\u001b[0m in \u001b[0;36m_attach\u001b[0;34m(self)\u001b[0m\n\u001b[1;32m    201\u001b[0m         \u001b[0;32mif\u001b[0m \u001b[0mself\u001b[0m\u001b[0;34m.\u001b[0m\u001b[0m_closed\u001b[0m \u001b[0;32mis\u001b[0m \u001b[0;32mFalse\u001b[0m\u001b[0;34m:\u001b[0m\u001b[0;34m\u001b[0m\u001b[0;34m\u001b[0m\u001b[0m\n\u001b[1;32m    202\u001b[0m             \u001b[0;32mwhile\u001b[0m \u001b[0mself\u001b[0m\u001b[0;34m.\u001b[0m\u001b[0m_attached\u001b[0m \u001b[0;32mis\u001b[0m \u001b[0;32mFalse\u001b[0m\u001b[0;34m:\u001b[0m\u001b[0;34m\u001b[0m\u001b[0;34m\u001b[0m\u001b[0m\n\u001b[0;32m--> 203\u001b[0;31m                 \u001b[0mself\u001b[0m\u001b[0;34m.\u001b[0m\u001b[0m_connection\u001b[0m\u001b[0;34m.\u001b[0m\u001b[0mfetch_message\u001b[0m\u001b[0;34m(\u001b[0m\u001b[0;34m)\u001b[0m\u001b[0;34m\u001b[0m\u001b[0;34m\u001b[0m\u001b[0m\n\u001b[0m\u001b[1;32m    204\u001b[0m \u001b[0;34m\u001b[0m\u001b[0m\n\u001b[1;32m    205\u001b[0m     \u001b[0;32mdef\u001b[0m \u001b[0m_buffer\u001b[0m\u001b[0;34m(\u001b[0m\u001b[0mself\u001b[0m\u001b[0;34m,\u001b[0m \u001b[0mn\u001b[0m\u001b[0;34m=\u001b[0m\u001b[0;32mNone\u001b[0m\u001b[0;34m)\u001b[0m\u001b[0;34m:\u001b[0m\u001b[0;34m\u001b[0m\u001b[0;34m\u001b[0m\u001b[0m\n",
      "\u001b[0;32m~/apps/anaconda3/envs/prj3/lib/python3.8/site-packages/neo4j/io/_common.py\u001b[0m in \u001b[0;36minner\u001b[0;34m(*args, **kwargs)\u001b[0m\n\u001b[1;32m    168\u001b[0m             \u001b[0;32mdef\u001b[0m \u001b[0minner\u001b[0m\u001b[0;34m(\u001b[0m\u001b[0;34m*\u001b[0m\u001b[0margs\u001b[0m\u001b[0;34m,\u001b[0m \u001b[0;34m**\u001b[0m\u001b[0mkwargs\u001b[0m\u001b[0;34m)\u001b[0m\u001b[0;34m:\u001b[0m\u001b[0;34m\u001b[0m\u001b[0;34m\u001b[0m\u001b[0m\n\u001b[1;32m    169\u001b[0m                 \u001b[0;32mtry\u001b[0m\u001b[0;34m:\u001b[0m\u001b[0;34m\u001b[0m\u001b[0;34m\u001b[0m\u001b[0m\n\u001b[0;32m--> 170\u001b[0;31m                     \u001b[0mfunc\u001b[0m\u001b[0;34m(\u001b[0m\u001b[0;34m*\u001b[0m\u001b[0margs\u001b[0m\u001b[0;34m,\u001b[0m \u001b[0;34m**\u001b[0m\u001b[0mkwargs\u001b[0m\u001b[0;34m)\u001b[0m\u001b[0;34m\u001b[0m\u001b[0;34m\u001b[0m\u001b[0m\n\u001b[0m\u001b[1;32m    171\u001b[0m                 \u001b[0;32mexcept\u001b[0m \u001b[0;34m(\u001b[0m\u001b[0mNeo4jError\u001b[0m\u001b[0;34m,\u001b[0m \u001b[0mServiceUnavailable\u001b[0m\u001b[0;34m,\u001b[0m \u001b[0mSessionExpired\u001b[0m\u001b[0;34m)\u001b[0m \u001b[0;32mas\u001b[0m \u001b[0mexc\u001b[0m\u001b[0;34m:\u001b[0m\u001b[0;34m\u001b[0m\u001b[0;34m\u001b[0m\u001b[0m\n\u001b[1;32m    172\u001b[0m                     \u001b[0mself\u001b[0m\u001b[0;34m.\u001b[0m\u001b[0m__on_error\u001b[0m\u001b[0;34m(\u001b[0m\u001b[0mexc\u001b[0m\u001b[0;34m)\u001b[0m\u001b[0;34m\u001b[0m\u001b[0;34m\u001b[0m\u001b[0m\n",
      "\u001b[0;32m~/apps/anaconda3/envs/prj3/lib/python3.8/site-packages/neo4j/io/_bolt4.py\u001b[0m in \u001b[0;36mfetch_message\u001b[0;34m(self)\u001b[0m\n\u001b[1;32m    307\u001b[0m             \u001b[0mself\u001b[0m\u001b[0;34m.\u001b[0m\u001b[0m_server_state_manager\u001b[0m\u001b[0;34m.\u001b[0m\u001b[0mstate\u001b[0m \u001b[0;34m=\u001b[0m \u001b[0mServerStates\u001b[0m\u001b[0;34m.\u001b[0m\u001b[0mFAILED\u001b[0m\u001b[0;34m\u001b[0m\u001b[0;34m\u001b[0m\u001b[0m\n\u001b[1;32m    308\u001b[0m             \u001b[0;32mtry\u001b[0m\u001b[0;34m:\u001b[0m\u001b[0;34m\u001b[0m\u001b[0;34m\u001b[0m\u001b[0m\n\u001b[0;32m--> 309\u001b[0;31m                 \u001b[0mresponse\u001b[0m\u001b[0;34m.\u001b[0m\u001b[0mon_failure\u001b[0m\u001b[0;34m(\u001b[0m\u001b[0msummary_metadata\u001b[0m \u001b[0;32mor\u001b[0m \u001b[0;34m{\u001b[0m\u001b[0;34m}\u001b[0m\u001b[0;34m)\u001b[0m\u001b[0;34m\u001b[0m\u001b[0;34m\u001b[0m\u001b[0m\n\u001b[0m\u001b[1;32m    310\u001b[0m             \u001b[0;32mexcept\u001b[0m \u001b[0;34m(\u001b[0m\u001b[0mServiceUnavailable\u001b[0m\u001b[0;34m,\u001b[0m \u001b[0mDatabaseUnavailable\u001b[0m\u001b[0;34m)\u001b[0m\u001b[0;34m:\u001b[0m\u001b[0;34m\u001b[0m\u001b[0;34m\u001b[0m\u001b[0m\n\u001b[1;32m    311\u001b[0m                 \u001b[0;32mif\u001b[0m \u001b[0mself\u001b[0m\u001b[0;34m.\u001b[0m\u001b[0mpool\u001b[0m\u001b[0;34m:\u001b[0m\u001b[0;34m\u001b[0m\u001b[0;34m\u001b[0m\u001b[0m\n",
      "\u001b[0;32m~/apps/anaconda3/envs/prj3/lib/python3.8/site-packages/neo4j/io/_common.py\u001b[0m in \u001b[0;36mon_failure\u001b[0;34m(self, metadata)\u001b[0m\n\u001b[1;32m    226\u001b[0m         \u001b[0;32mif\u001b[0m \u001b[0mcallable\u001b[0m\u001b[0;34m(\u001b[0m\u001b[0mhandler\u001b[0m\u001b[0;34m)\u001b[0m\u001b[0;34m:\u001b[0m\u001b[0;34m\u001b[0m\u001b[0;34m\u001b[0m\u001b[0m\n\u001b[1;32m    227\u001b[0m             \u001b[0mhandler\u001b[0m\u001b[0;34m(\u001b[0m\u001b[0;34m)\u001b[0m\u001b[0;34m\u001b[0m\u001b[0;34m\u001b[0m\u001b[0m\n\u001b[0;32m--> 228\u001b[0;31m         \u001b[0;32mraise\u001b[0m \u001b[0mNeo4jError\u001b[0m\u001b[0;34m.\u001b[0m\u001b[0mhydrate\u001b[0m\u001b[0;34m(\u001b[0m\u001b[0;34m**\u001b[0m\u001b[0mmetadata\u001b[0m\u001b[0;34m)\u001b[0m\u001b[0;34m\u001b[0m\u001b[0;34m\u001b[0m\u001b[0m\n\u001b[0m\u001b[1;32m    229\u001b[0m \u001b[0;34m\u001b[0m\u001b[0m\n\u001b[1;32m    230\u001b[0m     \u001b[0;32mdef\u001b[0m \u001b[0mon_ignored\u001b[0m\u001b[0;34m(\u001b[0m\u001b[0mself\u001b[0m\u001b[0;34m,\u001b[0m \u001b[0mmetadata\u001b[0m\u001b[0;34m=\u001b[0m\u001b[0;32mNone\u001b[0m\u001b[0;34m)\u001b[0m\u001b[0;34m:\u001b[0m\u001b[0;34m\u001b[0m\u001b[0;34m\u001b[0m\u001b[0m\n",
      "\u001b[0;31mCypherSyntaxError\u001b[0m: {code: Neo.ClientError.Statement.SyntaxError} {message: Invalid input ':': expected <init> (line 1, column 1 (offset: 0))\n\":auto USING PERIODIC COMMIT LOAD CSV WITH HEADERS FROM \"file:///{fname}\" as row MERGE (s:Stock{name:row.Symbol}) CREATE (s)-[:TRADING_DAY]->(:StockTradingDay{date:date(row.Date), open:toFloat(row.Open), high:toFloat(row.High), close:toFloat(row.Close), volume:toFloat(row.Volume),marketcap:toFloat(row.Marketcap)});\"\n ^}"
     ]
    }
   ],
   "source": [
    "## load in the data \n",
    "with driver.session() as session:\n",
    "    session.write_transaction(load_csv_coin_file,coin_fnames[0])"
   ]
  },
  {
   "cell_type": "code",
   "execution_count": null,
   "id": "3e2b3056-307e-4e71-b0cd-3b81b8449d60",
   "metadata": {},
   "outputs": [],
   "source": [
    ":auto USING PERIODIC COMMIT\n",
    "LOAD CSV WITH HEADERS FROM \"file:///coin_Bitcoin.csv\" as row\n",
    "MERGE (s:Stock{name:row.Symbol})\n",
    "CREATE (s)-[:TRADING_DAY]->(:StockTradingDay{date: date(row.Date), open:toFloat(row.Open), high:toFloat(row.High), close:toFloat(row.Close), volume: toFloat(row.Volume),marketcap: toFloat(row.Marketcap)});"
   ]
  },
  {
   "cell_type": "code",
   "execution_count": 55,
   "id": "0eda7fbf-e3f6-41a0-adad-e4b62ec5707e",
   "metadata": {},
   "outputs": [],
   "source": [
    "## delete all the nodes in the database \n",
    "with driver.session() as session:\n",
    "    session.write_transaction(delete_all_nodes)\n",
    "    \n",
    "    "
   ]
  },
  {
   "cell_type": "code",
   "execution_count": null,
   "id": "bf93ad1f-452e-40b9-b28d-0b9774b585f3",
   "metadata": {},
   "outputs": [],
   "source": []
  },
  {
   "cell_type": "code",
   "execution_count": null,
   "id": "903313cd-5c7b-4243-b420-495985096a7d",
   "metadata": {},
   "outputs": [],
   "source": []
  },
  {
   "cell_type": "code",
   "execution_count": null,
   "id": "77abab3e-2e9d-4b80-93af-4fbbd52b156a",
   "metadata": {},
   "outputs": [],
   "source": []
  },
  {
   "cell_type": "code",
   "execution_count": null,
   "id": "1c343b49-e33c-4e4c-9695-c7dd582ca730",
   "metadata": {},
   "outputs": [],
   "source": []
  },
  {
   "cell_type": "code",
   "execution_count": null,
   "id": "cc8d5e47-e29c-431c-aa09-e75a2dd8165b",
   "metadata": {},
   "outputs": [],
   "source": [
    "with driver.session() as session:\n",
    "    session.write_transaction(create_friend_of, \"Alice\", \"Bob\")\n",
    "\n",
    "with driver.session() as session:\n",
    "    session.write_transaction(create_friend_of, \"Alice\", \"Carl\")\n"
   ]
  },
  {
   "cell_type": "code",
   "execution_count": null,
   "id": "9260e5b2-d6d5-45ac-8381-c8c7aad65f8a",
   "metadata": {},
   "outputs": [],
   "source": []
  },
  {
   "cell_type": "code",
   "execution_count": 14,
   "id": "4db56675-485f-4c86-8cec-7756be23bf28",
   "metadata": {},
   "outputs": [],
   "source": [
    "# close the connection to the database \n",
    "driver.close()"
   ]
  },
  {
   "cell_type": "code",
   "execution_count": null,
   "id": "2af8156d-d4bd-4257-bc49-be86683287e0",
   "metadata": {},
   "outputs": [],
   "source": []
  }
 ],
 "metadata": {
  "kernelspec": {
   "display_name": "Python 3 (ipykernel)",
   "language": "python",
   "name": "python3"
  },
  "language_info": {
   "codemirror_mode": {
    "name": "ipython",
    "version": 3
   },
   "file_extension": ".py",
   "mimetype": "text/x-python",
   "name": "python",
   "nbconvert_exporter": "python",
   "pygments_lexer": "ipython3",
   "version": "3.8.12"
  }
 },
 "nbformat": 4,
 "nbformat_minor": 5
}
